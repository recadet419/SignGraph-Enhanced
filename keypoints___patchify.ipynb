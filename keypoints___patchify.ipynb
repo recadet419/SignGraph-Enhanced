{
 "cells": [
  {
   "cell_type": "code",
   "execution_count": null,
   "id": "fc9274a8-cbb2-433d-a2a2-920f184a964c",
   "metadata": {
    "scrolled": true
   },
   "outputs": [],
   "source": [
    "pip install torch torchvision torchaudio"
   ]
  },
  {
   "cell_type": "code",
   "execution_count": 70,
   "id": "6c831228-0008-44a9-9961-489394cd0ddb",
   "metadata": {},
   "outputs": [],
   "source": [
    "import torch\n",
    "import torch.nn as nn\n",
    "import torch.nn.functional as F\n",
    "import math"
   ]
  },
  {
   "cell_type": "code",
   "execution_count": 56,
   "id": "76274a30-6fbf-4e0e-9f40-5d7cb00d7741",
   "metadata": {},
   "outputs": [],
   "source": [
    "def patchify_keypoints(keypoints):\n",
    "    \"\"\"\n",
    "    Converts keypoints into patchified stem input.\n",
    "    Args:\n",
    "        keypoints: tensor (B, T, K, D) -> B=batch, T=frames, K=keypoints, D=(x,y,z)\n",
    "    Returns:\n",
    "        Tensor in shape (B, D, T*K, 1) suitable for graph modules\n",
    "    \"\"\"\n",
    "    B, T, K, D = keypoints.shape\n",
    "    x = keypoints.view(B, T * K, D)  \n",
    "    x = x.permute(0, 2, 1).unsqueeze(-1) \n",
    "    return x"
   ]
  },
  {
   "cell_type": "code",
   "execution_count": 60,
   "id": "425b5a57-813c-4d25-bd5b-cd46560becb7",
   "metadata": {},
   "outputs": [],
   "source": [
    "def pairwise_distance(x):\n",
    "    with torch.no_grad():\n",
    "        x_inner = -2 * torch.matmul(x, x.transpose(2, 1))\n",
    "        x_square = torch.sum(x * x, dim=-1, keepdim=True)\n",
    "        return x_square + x_inner + x_square.transpose(2, 1)"
   ]
  },
  {
   "cell_type": "code",
   "execution_count": 62,
   "id": "35616ee0-36e3-4914-a7cb-95603200c427",
   "metadata": {},
   "outputs": [],
   "source": [
    "def dense_knn_matrix(x, k=16, relative_pos=None):\n",
    "    with torch.no_grad():\n",
    "        x = x.transpose(2, 1).squeeze(-1)\n",
    "        batch_size, n_points, n_dims = x.shape\n",
    "        dist = pairwise_distance(x)\n",
    "        if relative_pos is not None:\n",
    "            dist += relative_pos\n",
    "        _, nn_idx = torch.topk(-dist, k=k)\n",
    "        center_idx = torch.arange(0, n_points, device=x.device).repeat(batch_size, k, 1).transpose(2, 1)\n",
    "    return torch.stack((nn_idx, center_idx), dim=0)"
   ]
  },
  {
   "cell_type": "code",
   "execution_count": 64,
   "id": "7c34ea6a-0539-46ef-80b6-590e9eeae826",
   "metadata": {},
   "outputs": [],
   "source": [
    "class DenseDilated(nn.Module):\n",
    "    def __init__(self, k=9, dilation=1, stochastic=False, epsilon=0.0):\n",
    "        super().__init__()\n",
    "        self.dilation = dilation\n",
    "        self.stochastic = stochastic\n",
    "        self.epsilon = epsilon\n",
    "        self.k = k\n",
    "\n",
    "    def forward(self, edge_index):\n",
    "        if self.stochastic and torch.rand(1) < self.epsilon and self.training:\n",
    "            num = self.k * self.dilation\n",
    "            randnum = torch.randperm(num)[:self.k]\n",
    "            edge_index = edge_index[:, :, :, randnum]\n",
    "        else:\n",
    "            edge_index = edge_index[:, :, :, ::self.dilation]\n",
    "        return edge_index"
   ]
  },
  {
   "cell_type": "code",
   "execution_count": 66,
   "id": "a9f85222-a767-4fd5-b9f1-e8f785c67007",
   "metadata": {},
   "outputs": [],
   "source": [
    "class DenseDilatedKnnGraph(nn.Module):\n",
    "    def __init__(self, k=9, dilation=1, stochastic=False, epsilon=0.0):\n",
    "        super().__init__()\n",
    "        self.dilation = dilation\n",
    "        self.stochastic = stochastic\n",
    "        self.epsilon = epsilon\n",
    "        self.k = k\n",
    "        self._dilated = DenseDilated(k, dilation, stochastic, epsilon)\n",
    "\n",
    "    def forward(self, x, y=None, relative_pos=None):\n",
    "        if y is not None:\n",
    "            x = F.normalize(x, p=2.0, dim=1)\n",
    "            y = F.normalize(y, p=2.0, dim=1)\n",
    "            edge_index = xy_dense_knn_matrix(x, y, self.k * self.dilation, relative_pos)\n",
    "        else:\n",
    "            x = F.normalize(x, p=2.0, dim=1)\n",
    "            edge_index = dense_knn_matrix(x, self.k * self.dilation, relative_pos)\n",
    "        return self._dilated(edge_index)"
   ]
  },
  {
   "cell_type": "code",
   "execution_count": 72,
   "id": "b32f6dc6-e432-48c3-8a12-516fd1a625f7",
   "metadata": {},
   "outputs": [
    {
     "name": "stdout",
     "output_type": "stream",
     "text": [
      "Patchified shape: torch.Size([2, 3, 16290, 1])\n",
      "Edge index shape: torch.Size([2, 2, 16290, 9])\n"
     ]
    }
   ],
   "source": [
    "if __name__ == \"__main__\":\n",
    "    B, T, K, D = 2, 30, 543, 3\n",
    "    keypoints = torch.randn(B, T, K, D)\n",
    "\n",
    "    patchified = patchify_keypoints(keypoints) \n",
    "\n",
    "    knn_graph = DenseDilatedKnnGraph(k=9, dilation=1)\n",
    "    edge_index = knn_graph(patchified) \n",
    "\n",
    "    print(\"Patchified shape:\", patchified.shape)\n",
    "    print(\"Edge index shape:\", edge_index.shape)"
   ]
  },
  {
   "cell_type": "code",
   "execution_count": null,
   "id": "3d12bdc4-bad5-455d-bd20-a1448b652d36",
   "metadata": {},
   "outputs": [],
   "source": []
  }
 ],
 "metadata": {
  "kernelspec": {
   "display_name": "Python 3 (ipykernel)",
   "language": "python",
   "name": "python3"
  },
  "language_info": {
   "codemirror_mode": {
    "name": "ipython",
    "version": 3
   },
   "file_extension": ".py",
   "mimetype": "text/x-python",
   "name": "python",
   "nbconvert_exporter": "python",
   "pygments_lexer": "ipython3",
   "version": "3.12.4"
  }
 },
 "nbformat": 4,
 "nbformat_minor": 5
}
