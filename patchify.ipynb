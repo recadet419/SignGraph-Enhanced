{
 "cells": [
  {
   "cell_type": "code",
   "execution_count": 7,
   "id": "a1efba6a-b829-42b7-8b01-61ca6110da3e",
   "metadata": {},
   "outputs": [],
   "source": [
    "import os\n",
    "import cv2\n",
    "import mediapipe as mp\n",
    "import numpy as np\n",
    "from tqdm import tqdm"
   ]
  },
  {
   "cell_type": "code",
   "execution_count": 9,
   "id": "244e2583-cd89-479f-b77e-b82335408fb0",
   "metadata": {},
   "outputs": [],
   "source": [
    "mp_holistic = mp.solutions.holistic"
   ]
  },
  {
   "cell_type": "code",
   "execution_count": null,
   "id": "fa10b71d-88de-48fc-ae18-f50a84e9fa41",
   "metadata": {},
   "outputs": [],
   "source": [
    "def extract_keypoints_from_video(video_path):\n",
    "    cap = cv2.VideoCapture(video_path)\n",
    "    holistic = mp_holistic.Holistic(static_image_mode=False)\n",
    "    keypoints_all_frames = []\n",
    "\n",
    "    while cap.isOpened():\n",
    "        ret, frame = cap.read()\n",
    "        if not ret:\n",
    "            break\n",
    "\n",
    "        image = cv2.cvtColor(frame, cv2.COLOR_BGR2RGB)\n",
    "        results = holistic.process(image)\n",
    "\n",
    "        frame_keypoints = []\n",
    "\n",
    "        if results.pose_landmarks:\n",
    "            for landmark in results.pose_landmarks.landmark:\n",
    "                frame_keypoints.extend([landmark.x, landmark.y, landmark.z])\n",
    "        else:\n",
    "            frame_keypoints.extend([0] * 33 * 3) \n",
    "\n",
    "        if results.left_hand_landmarks:\n",
    "            for landmark in results.left_hand_landmarks.landmark:\n",
    "                frame_keypoints.extend([landmark.x, landmark.y, landmark.z])\n",
    "        else:\n",
    "            frame_keypoints.extend([0] * 21 * 3)\n",
    "\n",
    "        if results.right_hand_landmarks:\n",
    "            for landmark in results.right_hand_landmarks.landmark:\n",
    "                frame_keypoints.extend([landmark.x, landmark.y, landmark.z])\n",
    "        else:\n",
    "            frame_keypoints.extend([0] * 21 * 3)\n",
    "\n",
    "        if results.face_landmarks:\n",
    "            for landmark in results.face_landmarks.landmark:\n",
    "                frame_keypoints.extend([landmark.x, landmark.y, landmark.z])\n",
    "        else:\n",
    "            frame_keypoints.extend([0] * 468 * 3)\n",
    "\n",
    "        keypoints_all_frames.append(frame_keypoints)\n",
    "\n",
    "    cap.release()\n",
    "    holistic.close()\n",
    "    return np.array(keypoints_all_frames)"
   ]
  },
  {
   "cell_type": "code",
   "execution_count": 13,
   "id": "47f11cea-ca2c-4a66-80df-c98bfe190255",
   "metadata": {},
   "outputs": [],
   "source": [
    "def process_videos(input_dir, output_dir):\n",
    "    os.makedirs(output_dir, exist_ok=True)\n",
    "    video_files = [f for f in os.listdir(input_dir) if f.endswith(('.mp4', '.avi', '.mov'))]\n",
    "\n",
    "    for video_file in tqdm(video_files, desc=\"Processing videos\"):\n",
    "        video_path = os.path.join(input_dir, video_file)\n",
    "        keypoints = extract_keypoints_from_video(video_path)\n",
    "        output_path = os.path.join(output_dir, os.path.splitext(video_file)[0] + '.npy')\n",
    "        np.save(output_path, keypoints)"
   ]
  },
  {
   "cell_type": "code",
   "execution_count": 15,
   "id": "30d5d241-6424-4adf-b944-deb35be2cd16",
   "metadata": {},
   "outputs": [
    {
     "name": "stderr",
     "output_type": "stream",
     "text": [
      "Processing videos:   0%|                                                                      | 0/7096 [00:00<?, ?it/s]D:\\conda\\Lib\\site-packages\\google\\protobuf\\symbol_database.py:55: UserWarning: SymbolDatabase.GetPrototype() is deprecated. Please use message_factory.GetMessageClass() instead. SymbolDatabase.GetPrototype() will be removed soon.\n",
      "  warnings.warn('SymbolDatabase.GetPrototype() is deprecated. Please '\n",
      "Processing videos: 100%|████████████████████████████████████████████████████████| 7096/7096 [16:11:44<00:00,  8.22s/it]\n"
     ]
    }
   ],
   "source": [
    "input_directory = 'train'\n",
    "output_directory = 'keypoints'\n",
    "process_videos(input_directory, output_directory)"
   ]
  },
  {
   "cell_type": "code",
   "execution_count": null,
   "id": "eecf778c-4918-414a-b9d9-811b70e30f63",
   "metadata": {},
   "outputs": [],
   "source": []
  }
 ],
 "metadata": {
  "kernelspec": {
   "display_name": "Python 3 (ipykernel)",
   "language": "python",
   "name": "python3"
  },
  "language_info": {
   "codemirror_mode": {
    "name": "ipython",
    "version": 3
   },
   "file_extension": ".py",
   "mimetype": "text/x-python",
   "name": "python",
   "nbconvert_exporter": "python",
   "pygments_lexer": "ipython3",
   "version": "3.12.4"
  }
 },
 "nbformat": 4,
 "nbformat_minor": 5
}
